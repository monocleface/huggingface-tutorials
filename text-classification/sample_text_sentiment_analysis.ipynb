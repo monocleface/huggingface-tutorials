{
  "nbformat": 4,
  "nbformat_minor": 0,
  "metadata": {
    "colab": {
      "provenance": []
    },
    "kernelspec": {
      "name": "python3",
      "display_name": "Python 3"
    },
    "language_info": {
      "name": "python"
    }
  },
  "cells": [
    {
      "cell_type": "markdown",
      "source": [
        "# 감정 분석 (Sentiment Analysis):\n",
        "\n",
        "Text Classification(텍스트 분류)은 주어진 텍스트(문장이나 문서)를 미리 정해진 카테고리(범주) 중 하나로 분류하는 작업을 의미합니다.\n",
        "\n",
        "가장 대표적인 예시가 바로 감성 분석(Sentiment Analysis)입니다.\n",
        "\n",
        "샘플 코드를 실행하기에 앞서 transfomers를 설치해야 합니다."
      ],
      "metadata": {
        "id": "x7Vg07pjRL1C"
      }
    },
    {
      "cell_type": "code",
      "execution_count": null,
      "metadata": {
        "id": "yS9vdI9IPEdF"
      },
      "outputs": [],
      "source": [
        "# huggingface transformers 설치\n",
        "!pip install transformers"
      ]
    },
    {
      "cell_type": "markdown",
      "source": [
        "## Copycats/koelectra-base-v3-generalized-sentiment-analysis 모델 테스트"
      ],
      "metadata": {
        "id": "GocZCLjIYdU4"
      }
    },
    {
      "cell_type": "code",
      "source": [
        "# import library\n",
        "import torch\n",
        "from transformers import AutoTokenizer, AutoModelForSequenceClassification, TextClassificationPipeline\n",
        "\n",
        "# load model\n",
        "tokenizer = AutoTokenizer.from_pretrained(\"Copycats/koelectra-base-v3-generalized-sentiment-analysis\")\n",
        "model = AutoModelForSequenceClassification.from_pretrained(\"Copycats/koelectra-base-v3-generalized-sentiment-analysis\")\n",
        "sentiment_classifier = TextClassificationPipeline(tokenizer=tokenizer, model=model)\n",
        "\n",
        "# target reviews\n",
        "review_list = [\n",
        "    \"음식 맛은 정말 훌륭한데, 가게가 너무 시끄럽고 직원이 불친절해요.\",\n",
        "    \"분위기나 인테리어는 정말 예쁜데, 가격에 비해 양이 너무 적었어요.\",\n",
        "    \"기능은 다양한데, 사용법이 너무 복잡해서 오히려 불편해요.\",\n",
        "    \"배우들 연기는 정말 최고였어요.\",\n",
        "    '한번입었는데 옆에 봉제선 다 풀리고 실밥도 계속 나옵니다. 마감 처리 너무 엉망 아닌가요?',\n",
        "    \"오랜만에 친구들을 만나서 반가웠지만, 헤어질 때는 너무 아쉬웠어요.\",\n",
        "    \"영상미는 화려하고 좋았지만, 결말이 너무 허무했습니다.\"\n",
        "]\n",
        "\n",
        "# predict\n",
        "for idx, review in enumerate(review_list):\n",
        "  pred = sentiment_classifier(review)\n",
        "  print(f'{review}\\n>> {pred[0]}')\n"
      ],
      "metadata": {
        "id": "MKjhm3YTY5FB"
      },
      "execution_count": null,
      "outputs": []
    },
    {
      "cell_type": "markdown",
      "source": [
        "결과:\n",
        "- label 0 : 부정적인 리뷰\n",
        "- label 1 : 긍정적인 리뷰\n",
        "\n",
        "수행 결과는 아래처럼 나옵니다.\n",
        "```\n",
        "음식 맛은 정말 훌륭한데, 가게가 너무 시끄럽고 직원이 불친절해요.\n",
        ">> {'label': '0', 'score': 0.9508960247039795}\n",
        "\n",
        "분위기나 인테리어는 정말 예쁜데, 가격에 비해 양이 너무 적었어요.\n",
        ">> {'label': '0', 'score': 0.6903115510940552}\n",
        "\n",
        "기능은 다양한데, 사용법이 너무 복잡해서 오히려 불편해요.\n",
        ">> {'label': '0', 'score': 0.9847258925437927}\n",
        "\n",
        "배우들 연기는 정말 최고였어요.\n",
        ">> {'label': '1', 'score': 0.9640251994132996}\n",
        "\n",
        "한번입었는데 옆에 봉제선 다 풀리고 실밥도 계속 나옵니다. 마감 처리 너무 엉망 아닌가요?\n",
        ">> {'label': '0', 'score': 0.9988909363746643}\n",
        "\n",
        "오랜만에 친구들을 만나서 반가웠지만, 헤어질 때는 너무 아쉬웠어요.\n",
        ">> {'label': '1', 'score': 0.9475674629211426}\n",
        "\n",
        "영상미는 화려하고 좋았지만, 결말이 너무 허무했습니다.\n",
        ">> {'label': '0', 'score': 0.9037595987319946}\n",
        "```\n",
        "\n",
        "테스트 문장을 긍정과 부정이 섞인 복합감정인 것으로 테스트를 하였습니다. 결과는 위의 수치와 같습니다. 조금더 자세히 살펴보면,"
      ],
      "metadata": {
        "id": "jVeQgv_HmbcG"
      }
    },
    {
      "cell_type": "markdown",
      "source": [
        "### 문장의 구조 (A-but-B)\n",
        "\"A-but-B\" (\"A(긍정)이지만 B(부정)이다\") 구조에서, 사람들은 보통 B에 더 강한 강조점이나 최종 결론을 둡니다.\n",
        "- A(긍정): 음식 맛은 정말 훌륭한데\n",
        "- B(부정): 가게가 너무 시끄럽고 직원이 불친절해요.\n",
        "\n",
        "이 문장은 \"맛은 좋았으나, 시끄럽고 불친절해서 (전반적으로) 별로였다\"라는 뉘앙스를 강하게 풍깁니다."
      ],
      "metadata": {
        "id": "vpiC2Cqlr3jB"
      }
    },
    {
      "cell_type": "markdown",
      "source": [
        "### 부정적인 요소의 '양'\n",
        "단순히 키워드만 보더라도,\n",
        "- 긍정 키워드: 훌륭한데 (1개)\n",
        "- 부정 키워드: 시끄럽고, 불친절해요 (2개)\n",
        "\n",
        "일반적인 감성 분석 모델은 문장 전체를 보고 하나의 레이블(긍정/부정)을 결정해야 할 때, 부정적인 요소가 2가지나 명확하게 언급되었기 때문에 부정으로 판단할 가능성이 큽니다."
      ],
      "metadata": {
        "id": "AKPdmuppr-7r"
      }
    },
    {
      "cell_type": "markdown",
      "source": [
        "### 감정 분석 모델의 한계와 종류\n",
        "문장을 어떻게 분석하는지는 사실 모델의 수준에 따라 다릅니다."
      ],
      "metadata": {
        "id": "ULP8ZS57sEWL"
      }
    },
    {
      "cell_type": "markdown",
      "source": [
        "#### 일반적인 감성 분석 (Sentence-level):\n",
        "대부분의 표준 모델은 문장 전체의 '종합적인' 분위기를 판단하도록 학습됩니다.\n",
        "\n",
        "이 경우, 긍정적인 면(맛)이 언급되었음에도 불구하고 부정적인 면(소음, 불친절)이 경험을 망쳤다고 해석하여 '부정' (또는 별점 1~2점)으로 분류할 것입니다."
      ],
      "metadata": {
        "id": "EF71kkCPsJgM"
      }
    },
    {
      "cell_type": "markdown",
      "source": [
        "#### 속성 기반 감성 분석 (ABSA - Aspect-Based Sentiment Analysis):\n",
        "더 발전된 형태의 분석입니다. 문장을 '주제'별로 쪼개서 각각의 감성을 분석합니다.\n",
        "만약 이 문장을 ABSA 모델로 분석한다면 이런 결과가 나옵니다.\n",
        "\n",
        "- 음식 맛: 긍정(Positive)\n",
        "- 가게 분위기/소음: 부정(Negative)\n",
        "- 직원/서비스: 부정(Negative)"
      ],
      "metadata": {
        "id": "bcCMjCS2sM2_"
      }
    },
    {
      "cell_type": "markdown",
      "source": [
        "## yangheng/deberta-v3-base-absa-v1.1 모델 테스트"
      ],
      "metadata": {
        "id": "ZzH2rDu8wyjG"
      }
    },
    {
      "cell_type": "code",
      "source": [
        "# import library\n",
        "import torch\n",
        "from transformers import AutoTokenizer, AutoModelForSequenceClassification, TextClassificationPipeline\n",
        "\n",
        "# load model\n",
        "tokenizer = AutoTokenizer.from_pretrained(\"yangheng/deberta-v3-base-absa-v1.1\")\n",
        "model = AutoModelForSequenceClassification.from_pretrained(\"yangheng/deberta-v3-base-absa-v1.1\")\n",
        "sentiment_classifier = TextClassificationPipeline(tokenizer=tokenizer, model=model)\n",
        "\n",
        "# target reviews\n",
        "review_list = [\n",
        "    \"음식 맛은 정말 훌륭한데, 가게가 너무 시끄럽고 직원이 불친절해요.\",\n",
        "    \"분위기나 인테리어는 정말 예쁜데, 가격에 비해 양이 너무 적었어요.\",\n",
        "    \"기능은 다양한데, 사용법이 너무 복잡해서 오히려 불편해요.\",\n",
        "    \"배우들 연기는 정말 최고였어요.\",\n",
        "    '한번입었는데 옆에 봉제선 다 풀리고 실밥도 계속 나옵니다. 마감 처리 너무 엉망 아닌가요?',\n",
        "    \"오랜만에 친구들을 만나서 반가웠지만, 헤어질 때는 너무 아쉬웠어요.\",\n",
        "    \"영상미는 화려하고 좋았지만, 결말이 너무 허무했습니다.\"\n",
        "]\n",
        "\n",
        "# predict\n",
        "for idx, review in enumerate(review_list):\n",
        "  pred = sentiment_classifier(review)\n",
        "  print(f'{review}\\n>> {pred[0]}')\n"
      ],
      "metadata": {
        "id": "z5Sx5wnsw17Y"
      },
      "execution_count": null,
      "outputs": []
    },
    {
      "cell_type": "markdown",
      "source": [
        "결과는 아래와 같이 나옵니다.\n",
        "```\n",
        "음식 맛은 정말 훌륭한데, 가게가 너무 시끄럽고 직원이 불친절해요.\n",
        ">> {'label': 'Positive', 'score': 0.7525179386138916}\n",
        "\n",
        "분위기나 인테리어는 정말 예쁜데, 가격에 비해 양이 너무 적었어요.\n",
        ">> {'label': 'Positive', 'score': 0.5790202617645264}\n",
        "\n",
        "기능은 다양한데, 사용법이 너무 복잡해서 오히려 불편해요.\n",
        ">> {'label': 'Negative', 'score': 0.5635974407196045}\n",
        "\n",
        "배우들 연기는 정말 최고였어요.\n",
        ">> {'label': 'Positive', 'score': 0.9434264302253723}\n",
        "\n",
        "한번입었는데 옆에 봉제선 다 풀리고 실밥도 계속 나옵니다. 마감 처리 너무 엉망 아닌가요?\n",
        ">> {'label': 'Negative', 'score': 0.9397663474082947}\n",
        "\n",
        "오랜만에 친구들을 만나서 반가웠지만, 헤어질 때는 너무 아쉬웠어요.\n",
        ">> {'label': 'Positive', 'score': 0.8371114134788513}\n",
        "\n",
        "영상미는 화려하고 좋았지만, 결말이 너무 허무했습니다.\n",
        ">> {'label': 'Positive', 'score': 0.862045168876648}\n",
        "```"
      ],
      "metadata": {
        "id": "TOldjJrOyM_B"
      }
    },
    {
      "cell_type": "markdown",
      "source": [
        "# 결론\n"
      ],
      "metadata": {
        "id": "xloB4B_KyxMd"
      }
    },
    {
      "cell_type": "markdown",
      "source": [
        "## Copycats/koelectra-base-v3-generalized-sentiment-analysis 모델\n",
        "이 모델이 복합 감정 문장을 훨씬 더 잘 이해한다고 생각합니다.\n",
        "- 영상미는... 좋았지만, 결말이... 허무했습니다. -> Negative (정확)\n",
        "- 음식 맛은... 훌륭한데, 직원이... 불친절해요. -> Negative (정확)\n",
        "- 분위기나... 예쁜데, 양이... 적었어요. -> Negative (정확)\n",
        "- 기능은... 다양한데, 사용법이... 불편해요. -> Negative (정확)\n",
        "\n",
        "문장 앞부분의 긍정적인 칭찬에도 불구하고, 최종적으로 전달하려는 의도(불편함, 불친절함, 양 적음, 허무함)가 부정적이라는 것을 정확하게 포착했다고 생각합니다."
      ],
      "metadata": {
        "id": "t6rMhxYgzw9y"
      }
    },
    {
      "cell_type": "markdown",
      "source": [
        "## yangheng/deberta-v3-base-absa-v1.1 모델\n",
        "이 모델은 \"A이지만 B이다.\" 구조의 문맥을 잘 파악하지 못하는 것 같습니다.\n",
        "- 영상미는... 좋았지만, 결말이... 허무했습니다. -> Positive (부정확)\n",
        "- 음식 맛은... 훌륭한데, 직원이... 불친절해요. -> Positive (부정확)\n",
        "- 분위기나... 예쁜데, 양이... 적었어요. -> Positive (부정확)\n",
        "\n",
        "이 모델은 문장 앞부분에 나오는 훌륭한데, 예쁜데, 좋았지만 등과 같은 긍정적인 단어에 너무 큰 가중치를 두어, 뒤에 아노는 부정적인 결론을 놓친다고 생각합니다."
      ],
      "metadata": {
        "id": "XkWzi9WTzkBN"
      }
    }
  ]
}