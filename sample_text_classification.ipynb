{
  "nbformat": 4,
  "nbformat_minor": 0,
  "metadata": {
    "colab": {
      "provenance": [],
      "authorship_tag": "ABX9TyNlGmATKzbrcZXautEavbMg",
      "include_colab_link": true
    },
    "kernelspec": {
      "name": "python3",
      "display_name": "Python 3"
    },
    "language_info": {
      "name": "python"
    }
  },
  "cells": [
    {
      "cell_type": "markdown",
      "metadata": {
        "id": "view-in-github",
        "colab_type": "text"
      },
      "source": [
        "<a href=\"https://colab.research.google.com/github/monocleface/huggingface-tutorials/blob/main/sample_text_classification.ipynb\" target=\"_parent\"><img src=\"https://colab.research.google.com/assets/colab-badge.svg\" alt=\"Open In Colab\"/></a>"
      ]
    },
    {
      "cell_type": "markdown",
      "source": [
        "Text Classification(텍스트 분류)은 주어진 텍스트(문장이나 문서)를 미리 정해진 카테고리(범주) 중 하나로 분류하는 작업을 의미합니다.\n",
        "\n",
        "가장 대표적인 예시가 바로 감성 분석(Sentiment Analysis)입니다.\n",
        "\n",
        "# 텍스트 분류란?\n",
        "텍스트를 읽고, 그 텍스트가 어떤 종류에 속하는지 꼬리표(Label)를 붙이는 모든 작업을 말합니다.\n",
        "예를 들어, \"이 영화 정말 재밌어요!\"라는 텍스트가 있다면, 텍스트 분류 모델은 이 문장을 \"긍정\"이라는 꼬리표로 분류합니다.\n",
        "\n",
        "# 주요 용도 및 예시\n",
        "텍스트 분류는 매우 다양한 곳에 사용됩니다.\n",
        "\n",
        "## 감성 분석 (Sentiment Analysis):\n",
        "- 목적: 문장이 긍정적인지, 부정적인지, 중립적인지 판단합니다.\n",
        "- 예시: 영화 리뷰, 쇼핑몰 상품평, 소셜 미디어 반응 분석\n",
        "\n",
        "예를 들어 \"배송도 빠르고 제품도 마음에 듭니다.\"라는 문장은 -> (출력) 긍정(Positive)으로 분류됩니다.\n",
        "\n",
        "## 뉴스 기사 분류 (News Categorization):\n",
        "- 목적: 기사 내용을 바탕으로 카테고리를 분류합니다.\n",
        "- 예시: 네이버나 다음 뉴스 섹션\n",
        "\n",
        "예를 들어 \"A 선수가 해트트릭을 기록하며 팀을 승리로 이끌었습니다...\"라는 문장은 -> (출력) 스포츠(Sports)로 분류됩니다.\n",
        "\n",
        "## 스팸 메일 필터링 (Spam Detection):\n",
        "- 목적: 이메일 내용이 정상 메일인지 스팸(광고) 메일인지 구분합니다.\n",
        "- 예시: Gmail, 네이버 메일의 스팸함\n",
        "\n",
        "예를 들어 \"(광고) 특별 할인! 지금 바로 확인하세요...\"라는 문장은 -> (출력) 스팸(Spam)으로 분류됩니다.\n",
        "\n",
        "## 주제 분류 (Topic Classification):\n",
        "- 목적: 고객센터 문의 내용이나 게시판 글의 주제를 분류합니다.\n",
        "- 예시: \"로그인이 안 돼요\" → 계정 문의, \"결제 취소해 주세요\" → 결제 문의\n",
        "\n",
        "Huggingface에 있는 모델을 가지고 위에선 언급된 항목별로 샘플 테스트를 합니다.\n",
        "\n",
        "샘플 코드를 살펴보시죠."
      ],
      "metadata": {
        "id": "x7Vg07pjRL1C"
      }
    },
    {
      "cell_type": "code",
      "execution_count": 1,
      "metadata": {
        "colab": {
          "base_uri": "https://localhost:8080/"
        },
        "id": "yS9vdI9IPEdF",
        "outputId": "e724653a-738b-4525-c75e-a4980e224dea"
      },
      "outputs": [
        {
          "output_type": "stream",
          "name": "stdout",
          "text": [
            "Requirement already satisfied: transformers in /usr/local/lib/python3.12/dist-packages (4.57.1)\n",
            "Requirement already satisfied: filelock in /usr/local/lib/python3.12/dist-packages (from transformers) (3.20.0)\n",
            "Requirement already satisfied: huggingface-hub<1.0,>=0.34.0 in /usr/local/lib/python3.12/dist-packages (from transformers) (0.35.3)\n",
            "Requirement already satisfied: numpy>=1.17 in /usr/local/lib/python3.12/dist-packages (from transformers) (2.0.2)\n",
            "Requirement already satisfied: packaging>=20.0 in /usr/local/lib/python3.12/dist-packages (from transformers) (25.0)\n",
            "Requirement already satisfied: pyyaml>=5.1 in /usr/local/lib/python3.12/dist-packages (from transformers) (6.0.3)\n",
            "Requirement already satisfied: regex!=2019.12.17 in /usr/local/lib/python3.12/dist-packages (from transformers) (2024.11.6)\n",
            "Requirement already satisfied: requests in /usr/local/lib/python3.12/dist-packages (from transformers) (2.32.4)\n",
            "Requirement already satisfied: tokenizers<=0.23.0,>=0.22.0 in /usr/local/lib/python3.12/dist-packages (from transformers) (0.22.1)\n",
            "Requirement already satisfied: safetensors>=0.4.3 in /usr/local/lib/python3.12/dist-packages (from transformers) (0.6.2)\n",
            "Requirement already satisfied: tqdm>=4.27 in /usr/local/lib/python3.12/dist-packages (from transformers) (4.67.1)\n",
            "Requirement already satisfied: fsspec>=2023.5.0 in /usr/local/lib/python3.12/dist-packages (from huggingface-hub<1.0,>=0.34.0->transformers) (2025.3.0)\n",
            "Requirement already satisfied: typing-extensions>=3.7.4.3 in /usr/local/lib/python3.12/dist-packages (from huggingface-hub<1.0,>=0.34.0->transformers) (4.15.0)\n",
            "Requirement already satisfied: hf-xet<2.0.0,>=1.1.3 in /usr/local/lib/python3.12/dist-packages (from huggingface-hub<1.0,>=0.34.0->transformers) (1.1.10)\n",
            "Requirement already satisfied: charset_normalizer<4,>=2 in /usr/local/lib/python3.12/dist-packages (from requests->transformers) (3.4.4)\n",
            "Requirement already satisfied: idna<4,>=2.5 in /usr/local/lib/python3.12/dist-packages (from requests->transformers) (3.11)\n",
            "Requirement already satisfied: urllib3<3,>=1.21.1 in /usr/local/lib/python3.12/dist-packages (from requests->transformers) (2.5.0)\n",
            "Requirement already satisfied: certifi>=2017.4.17 in /usr/local/lib/python3.12/dist-packages (from requests->transformers) (2025.10.5)\n"
          ]
        }
      ],
      "source": [
        "# huggingface transformers 설치\n",
        "!pip install transformers"
      ]
    }
  ]
}